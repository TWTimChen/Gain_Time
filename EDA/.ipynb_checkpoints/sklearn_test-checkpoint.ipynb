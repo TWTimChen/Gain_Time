{
 "cells": [
  {
   "cell_type": "code",
   "execution_count": 12,
   "metadata": {},
   "outputs": [],
   "source": [
    "%matplotlib inline\n",
    "from mysql_con import con\n",
    "import pandas as pd\n",
    "import matplotlib.pyplot as plt\n",
    "import seaborn as sns"
   ]
  },
  {
   "cell_type": "code",
   "execution_count": 2,
   "metadata": {},
   "outputs": [],
   "source": [
    "df = pd.read_sql(\"select * from price where produce = 'FA1' and market = '104'\",con())"
   ]
  },
  {
   "cell_type": "code",
   "execution_count": 3,
   "metadata": {},
   "outputs": [
    {
     "data": {
      "text/html": [
       "<div>\n",
       "<style scoped>\n",
       "    .dataframe tbody tr th:only-of-type {\n",
       "        vertical-align: middle;\n",
       "    }\n",
       "\n",
       "    .dataframe tbody tr th {\n",
       "        vertical-align: top;\n",
       "    }\n",
       "\n",
       "    .dataframe thead th {\n",
       "        text-align: right;\n",
       "    }\n",
       "</style>\n",
       "<table border=\"1\" class=\"dataframe\">\n",
       "  <thead>\n",
       "    <tr style=\"text-align: right;\">\n",
       "      <th></th>\n",
       "      <th>market</th>\n",
       "      <th>produce</th>\n",
       "      <th>price_top</th>\n",
       "      <th>price_mid</th>\n",
       "      <th>price_low</th>\n",
       "      <th>price_ave</th>\n",
       "      <th>volumn</th>\n",
       "      <th>date_</th>\n",
       "    </tr>\n",
       "  </thead>\n",
       "  <tbody>\n",
       "    <tr>\n",
       "      <th>0</th>\n",
       "      <td>104</td>\n",
       "      <td>FA1</td>\n",
       "      <td>67.0</td>\n",
       "      <td>52.7</td>\n",
       "      <td>31.9</td>\n",
       "      <td>51.4</td>\n",
       "      <td>233.0</td>\n",
       "      <td>2008/07/25</td>\n",
       "    </tr>\n",
       "    <tr>\n",
       "      <th>1</th>\n",
       "      <td>104</td>\n",
       "      <td>FA1</td>\n",
       "      <td>73.0</td>\n",
       "      <td>55.5</td>\n",
       "      <td>40.0</td>\n",
       "      <td>55.9</td>\n",
       "      <td>511.0</td>\n",
       "      <td>2008/07/26</td>\n",
       "    </tr>\n",
       "    <tr>\n",
       "      <th>2</th>\n",
       "      <td>104</td>\n",
       "      <td>FA1</td>\n",
       "      <td>68.4</td>\n",
       "      <td>49.3</td>\n",
       "      <td>33.8</td>\n",
       "      <td>50.0</td>\n",
       "      <td>589.0</td>\n",
       "      <td>2008/07/27</td>\n",
       "    </tr>\n",
       "    <tr>\n",
       "      <th>3</th>\n",
       "      <td>104</td>\n",
       "      <td>FA1</td>\n",
       "      <td>69.3</td>\n",
       "      <td>56.9</td>\n",
       "      <td>33.8</td>\n",
       "      <td>54.7</td>\n",
       "      <td>706.0</td>\n",
       "      <td>2008/07/29</td>\n",
       "    </tr>\n",
       "    <tr>\n",
       "      <th>4</th>\n",
       "      <td>104</td>\n",
       "      <td>FA1</td>\n",
       "      <td>55.9</td>\n",
       "      <td>45.9</td>\n",
       "      <td>36.7</td>\n",
       "      <td>46.0</td>\n",
       "      <td>467.0</td>\n",
       "      <td>2008/07/30</td>\n",
       "    </tr>\n",
       "  </tbody>\n",
       "</table>\n",
       "</div>"
      ],
      "text/plain": [
       "   market produce  price_top  price_mid  price_low  price_ave  volumn  \\\n",
       "0     104     FA1       67.0       52.7       31.9       51.4   233.0   \n",
       "1     104     FA1       73.0       55.5       40.0       55.9   511.0   \n",
       "2     104     FA1       68.4       49.3       33.8       50.0   589.0   \n",
       "3     104     FA1       69.3       56.9       33.8       54.7   706.0   \n",
       "4     104     FA1       55.9       45.9       36.7       46.0   467.0   \n",
       "\n",
       "        date_  \n",
       "0  2008/07/25  \n",
       "1  2008/07/26  \n",
       "2  2008/07/27  \n",
       "3  2008/07/29  \n",
       "4  2008/07/30  "
      ]
     },
     "execution_count": 3,
     "metadata": {},
     "output_type": "execute_result"
    }
   ],
   "source": [
    "df.head()"
   ]
  },
  {
   "cell_type": "code",
   "execution_count": 3,
   "metadata": {},
   "outputs": [],
   "source": [
    "from sklearn.model_selection import train_test_split\n",
    "from sklearn.metrics import accuracy_score\n",
    "from sklearn.tree import DecisionTreeRegressor\n",
    "from sklearn.ensemble import RandomForestRegressor\n",
    "from sklearn.neighbors import KNeighborsRegressor\n",
    "from sklearn.svm import SVR\n",
    "from sklearn.ensemble import AdaBoostRegressor\n",
    "from sklearn.ensemble import GradientBoostingRegressor\n",
    "from xgboost import XGBRegressor\n",
    "from sklearn.linear_model import Lasso,Ridge,BayesianRidge,ElasticNet,HuberRegressor,LinearRegression,LogisticRegression,SGDRegressor\n",
    "from sklearn.metrics import mean_squared_error\n",
    "import numpy as np\n",
    "import warnings\n",
    "warnings.filterwarnings(\"ignore\")\n"
   ]
  },
  {
   "cell_type": "code",
   "execution_count": 10,
   "metadata": {},
   "outputs": [
    {
     "name": "stdout",
     "output_type": "stream",
     "text": [
      "(2869, 8) (319, 8)\n"
     ]
    }
   ],
   "source": [
    "train, test = train_test_split(df, test_size = 0.10, shuffle=False)\n",
    "print (train.shape, test.shape)\n"
   ]
  },
  {
   "cell_type": "code",
   "execution_count": null,
   "metadata": {},
   "outputs": [],
   "source": [
    "classifiers = [['DecisionTree :',DecisionTreeRegressor()],\n",
    "               ['RandomForest :',RandomForestRegressor()],\n",
    "               ['KNeighbours :', KNeighborsRegressor(n_neighbors = 2)],\n",
    "               ['SVM :', SVR()],\n",
    "               ['AdaBoostClassifier :', AdaBoostRegressor()],\n",
    "               ['GradientBoostingClassifier: ', GradientBoostingRegressor()],\n",
    "               ['Xgboost: ', XGBRegressor()],\n",
    "               ['CatBoost: ', CatBoostRegressor(logging_level='Silent')],\n",
    "               ['Lasso: ', Lasso()],\n",
    "               ['Ridge: ', Ridge()],\n",
    "               ['BayesianRidge: ', BayesianRidge()],\n",
    "               ['ElasticNet: ', ElasticNet()],\n",
    "               ['HuberRegressor: ', HuberRegressor()]]\n",
    "\n",
    "print(\"Accuracy Results...\")\n",
    "\n",
    "\n",
    "for name,classifier in classifiers:\n",
    "    classifier = classifier\n",
    "    classifier.fit(X_train, y_train)\n",
    "    predictions = classifier.predict(X_test)\n",
    "    print(name, (np.sqrt(mean_squared_error(y_test, predictions))))\n"
   ]
  }
 ],
 "metadata": {
  "kernelspec": {
   "display_name": "Python 3",
   "language": "python",
   "name": "python3"
  },
  "language_info": {
   "codemirror_mode": {
    "name": "ipython",
    "version": 3
   },
   "file_extension": ".py",
   "mimetype": "text/x-python",
   "name": "python",
   "nbconvert_exporter": "python",
   "pygments_lexer": "ipython3",
   "version": "3.6.5"
  }
 },
 "nbformat": 4,
 "nbformat_minor": 2
}
