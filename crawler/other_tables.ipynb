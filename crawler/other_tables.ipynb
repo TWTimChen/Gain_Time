{
 "cells": [
  {
   "cell_type": "code",
   "execution_count": 5,
   "metadata": {},
   "outputs": [],
   "source": [
    "from bs4 import BeautifulSoup\n",
    "import pandas as pd\n",
    "import requests\n",
    "from sqlalchemy import create_engine\n",
    "from mysql_con import con"
   ]
  },
  {
   "cell_type": "code",
   "execution_count": 36,
   "metadata": {},
   "outputs": [],
   "source": [
    "url = \"http://amis.afa.gov.tw/Selector/VegProductSelector.aspx?textField=ctl00_contentPlaceHolder_txtProduct&valueField=ctl00_contentPlaceHolder_hfldProductNo&productTypeField=ctl00_contentPlaceHolder_hfldProductType\"\n",
    "res = requests.get(url)\n",
    "soup = BeautifulSoup(res.text,\"html.parser\")\n",
    "text = soup.find(id=\"lstProduct\").get_text()\n",
    "df1 = pd.DataFrame([i.split(\" \",1) for i in text.split(\"\\n\")]).drop(0)[:-1]\n",
    "df1.columns = [\"produce\", \"value\"]"
   ]
  },
  {
   "cell_type": "code",
   "execution_count": 38,
   "metadata": {},
   "outputs": [],
   "source": [
    "df1.to_sql(\"produce\", con=con())"
   ]
  },
  {
   "cell_type": "code",
   "execution_count": 2,
   "metadata": {},
   "outputs": [],
   "source": [
    "url = \"http://amis.afa.gov.tw/Selector/FruitProductSelector.aspx?textField=ctl00_contentPlaceHolder_txtProduct&valueField=ctl00_contentPlaceHolder_hfldProductNo&productTypeField=ctl00_contentPlaceHolder_hfldProductType\"\n",
    "res = requests.get(url)\n",
    "soup = BeautifulSoup(res.text,\"html.parser\")\n",
    "text = soup.find(id=\"lstProduct\").get_text()\n",
    "df2 = pd.DataFrame([i.split(\" \",1) for i in text.split(\"\\n\")]).drop(0)[:-1]\n",
    "df2.columns = [\"produce\", \"value\"]"
   ]
  },
  {
   "cell_type": "code",
   "execution_count": 6,
   "metadata": {},
   "outputs": [],
   "source": [
    "df2.to_sql(\"produce\", con=con(), if_exists=\"append\")"
   ]
  },
  {
   "cell_type": "code",
   "execution_count": 41,
   "metadata": {},
   "outputs": [],
   "source": [
    "url = \"http://amis.afa.gov.tw/Selector/VegMarketSelector.aspx?textField=ctl00_contentPlaceHolder_txtMarket&valueField=ctl00_contentPlaceHolder_hfldMarketNo&includeTaipei=false\"\n",
    "res = requests.get(url)\n",
    "soup = BeautifulSoup(res.text,\"html.parser\")\n",
    "text = soup.find(id=\"lstMarket\").get_text()\n",
    "df3 = pd.DataFrame([i.split(\" \",1) for i in text.split(\"\\n\")]).drop(0)[:-1]\n",
    "df3.columns = [\"market\", \"value\"]"
   ]
  },
  {
   "cell_type": "code",
   "execution_count": 42,
   "metadata": {},
   "outputs": [],
   "source": [
    "df3.to_sql(\"market\", con=con())"
   ]
  },
  {
   "cell_type": "code",
   "execution_count": null,
   "metadata": {},
   "outputs": [],
   "source": []
  }
 ],
 "metadata": {
  "kernelspec": {
   "display_name": "Python 3",
   "language": "python",
   "name": "python3"
  },
  "language_info": {
   "codemirror_mode": {
    "name": "ipython",
    "version": 3
   },
   "file_extension": ".py",
   "mimetype": "text/x-python",
   "name": "python",
   "nbconvert_exporter": "python",
   "pygments_lexer": "ipython3",
   "version": "3.6.5"
  }
 },
 "nbformat": 4,
 "nbformat_minor": 2
}
