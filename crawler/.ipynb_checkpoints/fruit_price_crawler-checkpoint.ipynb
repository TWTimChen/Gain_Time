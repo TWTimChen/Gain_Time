{
 "cells": [
  {
   "cell_type": "code",
   "execution_count": 38,
   "metadata": {},
   "outputs": [],
   "source": [
    "import pandas as pd\n",
    "import requests\n",
    "import json\n",
    "from bs4 import BeautifulSoup\n",
    "from mysql_con import con\n",
    "\n",
    "# creat date range\n",
    "date_list = pd.date_range(end=pd.datetime.today(), periods=3650).tolist()\n",
    "# target url\n",
    "url=\"http://amis.afa.gov.tw/fruit/FruitProdDayTransInfo.aspx\"\n",
    "\n",
    "data = json.loads(r'''{\n",
    "    \"ctl00$ScriptManager_Master\": \"ctl00$ScriptManager_Master|ctl00$contentPlaceHolder$btnQuery\",\n",
    "    \"__EVENTTARGET\": \"\",\n",
    "    \"__EVENTARGUMENT\": \"\",\n",
    "    \"__VIEWSTATE\": \"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\",\n",
    "    \"__VIEWSTATEGENERATOR\": \"A4896558\",\n",
    "    \"__EVENTVALIDATION\": \"/wEdABHspQrEd2fXGMyS7EZsWZjHQlnRBSjq2R0LFBhqvIaYOdWbMM2/DWJrZzd7rAbCDCMbHYsHDbD1wmtGXihvmsnJ8BlZTYOptctvPAnPr9y5LJoyUCbB5OTDc5yZRRQ2PEmkvfJ0YrSiHU+/oXyBv2VhrkJjLitQjF6ePtmGbXiLrIzHLqmP3vmfhBo4iiBYbOAMxUXSePoiAbW03Aek83lEONL/4qBgBPfx/RZlnlGK8F2urMXFZJUEVGioaQEN8wAcw2+N1zwrySGFt1o6Y654NdK0LUPG/u+ZYgXys7Q5MzRmtqZjr7cHdstuZRNzNiosHqM4wINIxgrfpUQJzv9gZVwND8r28jh0cASFMxbKEnnpSSDY7QmKYXm+f+4OFedl3NJCskTBKdTQZM8AI7C8\",\n",
    "    \"ctl00$contentPlaceHolder$ucDateScope$rblDateScope\": \"D\",\n",
    "    \"ctl00$contentPlaceHolder$ucSolarLunar$radlSolarLunar\": \"S\",\n",
    "    \"ctl00$contentPlaceHolder$txtSTransDate\": \"\",\n",
    "    \"ctl00$contentPlaceHolder$txtETransDate\": \"107/07/24\",\n",
    "    \"ctl00$contentPlaceHolder$txtMarket\": \"全部市場\",\n",
    "    \"ctl00$contentPlaceHolder$hfldMarketNo\": \"ALL\",\n",
    "    \"ctl00$contentPlaceHolder$txtProduct\": \"全部產品\",\n",
    "    \"ctl00$contentPlaceHolder$hfldProductNo\": \"ALL\",\n",
    "    \"ctl00$contentPlaceHolder$hfldProductType\": \"A\",\n",
    "    \"__ASYNCPOST\": \"true\",\n",
    "    \"ctl00$contentPlaceHolder$btnQuery\": \"查詢\"\n",
    "}''')\n",
    "\n",
    "headers = json.loads(r'''{\n",
    "    \"Accept\": \"*/*\",\n",
    "    \"Accept-Encoding\": \"gzip, deflate\",\n",
    "    \"Accept-Language\": \"zh-TW,zh;q=0.9,en-US;q=0.8,en;q=0.7\",\n",
    "    \"Cache-Control\": \"no-cache\",\n",
    "    \"Connection\": \"keep-alive\",\n",
    "    \"Content-Length\": \"35713\",\n",
    "    \"Content-Type\": \"application/x-www-form-urlencoded; charset=UTF-8\",\n",
    "    \"Cookie\": \"ASP.NET_SessionId=43ifq2onkjmb5ac2armlvzcf\",\n",
    "    \"Host\": \"amis.afa.gov.tw\",\n",
    "    \"Origin\": \"http://amis.afa.gov.tw\",\n",
    "    \"Referer\": \"http://amis.afa.gov.tw/fruit/FruitProdDayTransInfo.aspx\",\n",
    "    \"User-Agent\": \"Mozilla/5.0 (Macintosh; Intel Mac OS X 10_13_4) AppleWebKit/537.36 (KHTML, like Gecko) Chrome/67.0.3396.99 Safari/537.36\",\n",
    "    \"X-MicrosoftAjax\": \"Delta=true\",\n",
    "    \"X-Requested-With\": \"XMLHttpRequest\"\n",
    "}''')\n",
    "\n",
    "\n",
    "from sqlalchemy import create_engine\n",
    "\n",
    "# required function\n",
    "def fruitCrawler(url, data, headers, date_target):\n",
    "    if date_target.year > 2010:\n",
    "        date_RE_target = \"%s%s\" % (str(date_target.year-1911), date_target.strftime(\"/%m/%d\")) \n",
    "    else:\n",
    "        date_RE_target = \"0%s%s\" % (str(date_target.year-1911), date_target.strftime(\"/%m/%d\"))\n",
    "    data[\"ctl00$contentPlaceHolder$txtSTransDate\"] = date_RE_target\n",
    "    data[\"ctl00$contentPlaceHolder$txtETransDate\"] = date_RE_target\n",
    "    res = requests.post(url=url, data=data, headers=headers)\n",
    "    print(\"Crawler state \" + date_target.strftime(\"%Y/%m/%d\") + \" complete!\")\n",
    "    return res\n",
    "\n",
    "def fruitHiddenGet(url):\n",
    "    res = requests.post(url=url)\n",
    "    soup = BeautifulSoup(res.text, 'html.parser')\n",
    "    value = soup.find(id=\"__EVENTVALIDATION\")[\"value\"]\n",
    "    data[\"__EVENTVALIDATION\"] = value\n",
    "    \n",
    "def fruitTransform(res, date_target):\n",
    "    try:\n",
    "        tmp = pd.read_html(res.text, header=0)[2]\n",
    "        df = pd.DataFrame(tmp).drop(0)\n",
    "        df.dropna(inplace=True)\n",
    "\n",
    "        # clean column_1\n",
    "        str1 = [i.split(\" \")[0] for i in df.iloc[:,0]]\n",
    "        df.iloc[:,0] = [int(i) for i in str1]\n",
    "        # clean column_2\n",
    "        df.iloc[:,1] = [i.split(\" \")[0] for i in df.iloc[:,1]]\n",
    "\n",
    "        df.drop(df.columns[[6,8]], axis=1, inplace=True)\n",
    "        df.columns = [\"market\", \"produce\", \"price_top\", \"price_mid\", \"price_low\", \"price_ave\", \"volumn\"]\n",
    "        df[\"date_\"] = date_target.strftime(\"%Y/%m/%d\")\n",
    "\n",
    "        print(\"Transform state \" + date_target.strftime(\"%Y/%m/%d\") + \" complete!\")\n",
    "        return df\n",
    "    except Exception as e:\n",
    "        print(e)\n",
    "\n",
    "def fruitMySQL(df, con):\n",
    "    try:\n",
    "        df.to_sql('fruit',con=con(),if_exists='append',index=False)\n",
    "        print(\"DB store complete!\")\n",
    "    except Exception as e:\n",
    "        print(e)"
   ]
  },
  {
   "cell_type": "code",
   "execution_count": 39,
   "metadata": {
    "scrolled": true
   },
   "outputs": [
    {
     "name": "stdout",
     "output_type": "stream",
     "text": [
      "Crawler state 2011/08/13 complete!\n",
      "Transform state 2011/08/13 complete!\n",
      "DB store complete!\n",
      "Crawler state 2011/08/14 complete!\n",
      "Transform state 2011/08/14 complete!\n",
      "DB store complete!\n",
      "Crawler state 2011/08/15 complete!\n",
      "No tables found\n",
      "'NoneType' object has no attribute 'to_sql'\n",
      "Crawler state 2011/08/16 complete!\n",
      "No tables found\n",
      "'NoneType' object has no attribute 'to_sql'\n"
     ]
    },
    {
     "ename": "KeyboardInterrupt",
     "evalue": "",
     "output_type": "error",
     "traceback": [
      "\u001b[0;31m---------------------------------------------------------------------------\u001b[0m",
      "\u001b[0;31mKeyboardInterrupt\u001b[0m                         Traceback (most recent call last)",
      "\u001b[0;32m<ipython-input-39-37f4ccc1fcb9>\u001b[0m in \u001b[0;36m<module>\u001b[0;34m()\u001b[0m\n\u001b[1;32m      6\u001b[0m     \u001b[0;32mif\u001b[0m \u001b[0;34m(\u001b[0m\u001b[0mi\u001b[0m \u001b[0;34m%\u001b[0m \u001b[0;36m40\u001b[0m\u001b[0;34m)\u001b[0m\u001b[0;34m==\u001b[0m\u001b[0;36m1\u001b[0m\u001b[0;34m:\u001b[0m\u001b[0;34m\u001b[0m\u001b[0m\n\u001b[1;32m      7\u001b[0m         \u001b[0mfruitHiddenGet\u001b[0m\u001b[0;34m(\u001b[0m\u001b[0murl\u001b[0m\u001b[0;34m)\u001b[0m\u001b[0;34m\u001b[0m\u001b[0m\n\u001b[0;32m----> 8\u001b[0;31m     \u001b[0mtime\u001b[0m\u001b[0;34m.\u001b[0m\u001b[0msleep\u001b[0m\u001b[0;34m(\u001b[0m\u001b[0;36m3\u001b[0m\u001b[0;34m)\u001b[0m\u001b[0;34m\u001b[0m\u001b[0m\n\u001b[0m",
      "\u001b[0;31mKeyboardInterrupt\u001b[0m: "
     ]
    }
   ],
   "source": [
    "import time\n",
    "for i,j in enumerate(date_list[1114:]):\n",
    "    tmp_res = fruitCrawler(url, data, headers, j)\n",
    "    tmp_df = fruitTransform(tmp_res, j)\n",
    "    fruitMySQL(tmp_df, con=engine)\n",
    "    if (i % 40)==1:\n",
    "        fruitHiddenGet(url)\n",
    "    time.sleep(3)"
   ]
  },
  {
   "cell_type": "code",
   "execution_count": 40,
   "metadata": {},
   "outputs": [
    {
     "data": {
      "text/plain": [
       "Timestamp('2011-08-15 11:17:34.826498', freq='D')"
      ]
     },
     "execution_count": 40,
     "metadata": {},
     "output_type": "execute_result"
    }
   ],
   "source": [
    "date_list[1114]"
   ]
  },
  {
   "cell_type": "code",
   "execution_count": 29,
   "metadata": {},
   "outputs": [],
   "source": [
    "fruitHiddenGet(url)"
   ]
  },
  {
   "cell_type": "code",
   "execution_count": null,
   "metadata": {},
   "outputs": [],
   "source": []
  }
 ],
 "metadata": {
  "kernelspec": {
   "display_name": "Python 3",
   "language": "python",
   "name": "python3"
  },
  "language_info": {
   "codemirror_mode": {
    "name": "ipython",
    "version": 3
   },
   "file_extension": ".py",
   "mimetype": "text/x-python",
   "name": "python",
   "nbconvert_exporter": "python",
   "pygments_lexer": "ipython3",
   "version": "3.6.5"
  }
 },
 "nbformat": 4,
 "nbformat_minor": 2
}
